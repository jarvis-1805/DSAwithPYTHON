{
 "cells": [
  {
   "cell_type": "markdown",
   "metadata": {},
   "source": [
    "# Rat In A Maze"
   ]
  },
  {
   "cell_type": "code",
   "execution_count": 1,
   "metadata": {},
   "outputs": [],
   "source": [
    "def printPathHelper(x, y, maze, n, solution):\n",
    "    if x == n-1 and y == n-1:\n",
    "        solution[x][y] = 1\n",
    "        print(solution)\n",
    "        return\n",
    "    \n",
    "    if x < 0 or y < 0 or x >= n or y >= n or maze[x][y] == 0 or solution[x][y] == 1:\n",
    "        return\n",
    "    \n",
    "    solution[x][y] = 1\n",
    "    printPathHelper(x+1, y, maze, n, solution)\n",
    "    printPathHelper(x, y+1, maze, n, solution)\n",
    "    printPathHelper(x-1, y, maze, n, solution)\n",
    "    printPathHelper(x, y-1, maze, n, solution)\n",
    "    solution[x][y] = 0\n",
    "    return\n",
    "\n",
    "def printPath(maze):\n",
    "    n = len(maze)\n",
    "    solution = [[0 for j in range(n)] for i in range(n)]\n",
    "    printPathHelper(0, 0, maze, n, solution)"
   ]
  },
  {
   "cell_type": "code",
   "execution_count": 2,
   "metadata": {},
   "outputs": [
    {
     "name": "stdout",
     "output_type": "stream",
     "text": [
      "4\n",
      "1 1 1 1\n",
      "1 0 1 1\n",
      "1 1 0 1\n",
      "1 1 1 1\n",
      "[[1, 0, 0, 0], [1, 0, 0, 0], [1, 0, 0, 0], [1, 1, 1, 1]]\n",
      "[[1, 0, 0, 0], [1, 0, 0, 0], [1, 1, 0, 0], [0, 1, 1, 1]]\n",
      "[[1, 1, 1, 0], [0, 0, 1, 1], [0, 0, 0, 1], [0, 0, 0, 1]]\n",
      "[[1, 1, 1, 1], [0, 0, 0, 1], [0, 0, 0, 1], [0, 0, 0, 1]]\n"
     ]
    }
   ],
   "source": [
    "n = int(input())\n",
    "maze = []\n",
    "for i in range(n):\n",
    "    row = [int(ele) for ele in input().split()]\n",
    "    maze.append(row)\n",
    "\n",
    "printPath(maze)"
   ]
  },
  {
   "cell_type": "markdown",
   "metadata": {},
   "source": [
    "# N-Queen"
   ]
  },
  {
   "cell_type": "code",
   "execution_count": 5,
   "metadata": {},
   "outputs": [],
   "source": [
    "def isSafe(row, col, board, s):\n",
    "    # vertical direction\n",
    "    i = row-1\n",
    "    while i >= 0:\n",
    "        if board[i][col] == 1:\n",
    "            return False\n",
    "        i -= 1\n",
    "    \n",
    "    # diagonal left\n",
    "    i = row-1\n",
    "    j = col-1\n",
    "    while i >= 0 and j >= 0:\n",
    "        if board[i][j] == 1:\n",
    "            return False\n",
    "        i -= 1\n",
    "        j -= 1\n",
    "        \n",
    "    # diagonal right\n",
    "    i = row-1\n",
    "    j = col+1\n",
    "    while i >= 0 and j < n:\n",
    "        if board[i][j] == 1:\n",
    "            return False\n",
    "        i -= 1\n",
    "        j += 1\n",
    "    \n",
    "    return True\n",
    "\n",
    "def printPathsHelper(row, n, board):\n",
    "    if row == n:\n",
    "        for i in range(n):\n",
    "            for j in range(n):\n",
    "                print(board[i][j], end=' ')\n",
    "        print()\n",
    "        return\n",
    "    \n",
    "    for col in range(n):\n",
    "        if isSafe(row, col, board, n):\n",
    "            board[row][col] = 1\n",
    "            printPathsHelper(row+1, n, board)\n",
    "            board[row][col] = 0\n",
    "            \n",
    "    return\n",
    "\n",
    "def printPaths(n):\n",
    "    board = [[0 for j in range(n)] for i in range(n)]\n",
    "    printPathsHelper(0, n, board)"
   ]
  },
  {
   "cell_type": "code",
   "execution_count": 6,
   "metadata": {},
   "outputs": [
    {
     "name": "stdout",
     "output_type": "stream",
     "text": [
      "4\n",
      "0 1 0 0 0 0 0 1 1 0 0 0 0 0 1 0 \n",
      "0 0 1 0 1 0 0 0 0 0 0 1 0 1 0 0 \n"
     ]
    }
   ],
   "source": [
    "n = int(input())\n",
    "printPaths(n)"
   ]
  },
  {
   "cell_type": "code",
   "execution_count": null,
   "metadata": {},
   "outputs": [],
   "source": []
  }
 ],
 "metadata": {
  "kernelspec": {
   "display_name": "Python 3",
   "language": "python",
   "name": "python3"
  },
  "language_info": {
   "codemirror_mode": {
    "name": "ipython",
    "version": 3
   },
   "file_extension": ".py",
   "mimetype": "text/x-python",
   "name": "python",
   "nbconvert_exporter": "python",
   "pygments_lexer": "ipython3",
   "version": "3.8.2"
  }
 },
 "nbformat": 4,
 "nbformat_minor": 4
}
