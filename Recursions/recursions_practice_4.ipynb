{
 "cells": [
  {
   "cell_type": "markdown",
   "metadata": {},
   "source": [
    "# Return All Subsequences"
   ]
  },
  {
   "cell_type": "code",
   "execution_count": 7,
   "metadata": {},
   "outputs": [],
   "source": [
    "def subs(s):\n",
    "    if len(s) == 0:\n",
    "        output = []\n",
    "        output.append(\"\")\n",
    "        return output\n",
    "    \n",
    "    smallerString = s[1:]\n",
    "    smallerOutput = subs(smallerString)\n",
    "    \n",
    "    output = []\n",
    "    for sub in smallerOutput:\n",
    "        output.append(sub)\n",
    "        \n",
    "    for sub in smallerOutput:\n",
    "        subs_with_zeroth_char = s[0] + sub\n",
    "        output.append(subs_with_zeroth_char)\n",
    "    \n",
    "    return output"
   ]
  },
  {
   "cell_type": "code",
   "execution_count": 10,
   "metadata": {},
   "outputs": [
    {
     "name": "stdout",
     "output_type": "stream",
     "text": [
      "['', 'c', 'b', 'bc', 'a', 'ac', 'ab', 'abc']\n",
      "['', 'd', 'c', 'cd', 'b', 'bd', 'bc', 'bcd', 'a', 'ad', 'ac', 'acd', 'ab', 'abd', 'abc', 'abcd']\n"
     ]
    }
   ],
   "source": [
    "print(subs(\"abc\"))\n",
    "print(subs(\"abcd\"))"
   ]
  },
  {
   "cell_type": "markdown",
   "metadata": {},
   "source": [
    "# Return Keypad Combinations"
   ]
  },
  {
   "cell_type": "code",
   "execution_count": 32,
   "metadata": {},
   "outputs": [],
   "source": [
    "def getString(d):\n",
    "    if d == 2:\n",
    "        return \"abc\"\n",
    "    if d == 3:\n",
    "        return \"def\"\n",
    "    if d == 4:\n",
    "        return \"ghi\"\n",
    "    if d == 5:\n",
    "        return \"jkl\"\n",
    "    if d == 6:\n",
    "        return \"mno\"\n",
    "    if d == 7:\n",
    "        return \"pqrs\"\n",
    "    if d == 8:\n",
    "        return \"tuv\"\n",
    "    if d == 9:\n",
    "        return \"wxyz\""
   ]
  },
  {
   "cell_type": "code",
   "execution_count": 14,
   "metadata": {},
   "outputs": [],
   "source": [
    "def keypad(n):\n",
    "    if n == 0:\n",
    "        output = []\n",
    "        output.append(\"\")\n",
    "        return output\n",
    "    \n",
    "    smallerNumber = n//10\n",
    "    lastDigit = n%10\n",
    "    \n",
    "    smallerOutput = keypad(smallerNumber)\n",
    "    optionsForLastDigit = getString(lastDigit)\n",
    "    \n",
    "    output = []\n",
    "    for s in smallerOutput:\n",
    "        for c in optionsForLastDigit:\n",
    "            option = s + c\n",
    "            output.append(option)\n",
    "    \n",
    "    return output"
   ]
  },
  {
   "cell_type": "code",
   "execution_count": 15,
   "metadata": {},
   "outputs": [
    {
     "data": {
      "text/plain": [
       "['ad', 'ae', 'af', 'bd', 'be', 'bf', 'cd', 'ce', 'cf']"
      ]
     },
     "execution_count": 15,
     "metadata": {},
     "output_type": "execute_result"
    }
   ],
   "source": [
    "keypad(23)"
   ]
  },
  {
   "cell_type": "code",
   "execution_count": 17,
   "metadata": {},
   "outputs": [
    {
     "data": {
      "text/plain": [
       "(36,\n",
       " ['adp',\n",
       "  'adq',\n",
       "  'adr',\n",
       "  'ads',\n",
       "  'aep',\n",
       "  'aeq',\n",
       "  'aer',\n",
       "  'aes',\n",
       "  'afp',\n",
       "  'afq',\n",
       "  'afr',\n",
       "  'afs',\n",
       "  'bdp',\n",
       "  'bdq',\n",
       "  'bdr',\n",
       "  'bds',\n",
       "  'bep',\n",
       "  'beq',\n",
       "  'ber',\n",
       "  'bes',\n",
       "  'bfp',\n",
       "  'bfq',\n",
       "  'bfr',\n",
       "  'bfs',\n",
       "  'cdp',\n",
       "  'cdq',\n",
       "  'cdr',\n",
       "  'cds',\n",
       "  'cep',\n",
       "  'ceq',\n",
       "  'cer',\n",
       "  'ces',\n",
       "  'cfp',\n",
       "  'cfq',\n",
       "  'cfr',\n",
       "  'cfs'])"
      ]
     },
     "execution_count": 17,
     "metadata": {},
     "output_type": "execute_result"
    }
   ],
   "source": [
    "output = keypad(237)\n",
    "len(output), output"
   ]
  },
  {
   "cell_type": "markdown",
   "metadata": {},
   "source": [
    "# Print Output Instead Of Returning"
   ]
  },
  {
   "cell_type": "code",
   "execution_count": 22,
   "metadata": {},
   "outputs": [],
   "source": [
    "def factHelper(n):\n",
    "    if n == 0:\n",
    "        return 1\n",
    "    smallOutput = factHelper(n - 1)\n",
    "    output = n * smallOutput\n",
    "    return output"
   ]
  },
  {
   "cell_type": "code",
   "execution_count": 23,
   "metadata": {},
   "outputs": [],
   "source": [
    "def fact(n):\n",
    "    output = factHelper(n)\n",
    "    print(output)"
   ]
  },
  {
   "cell_type": "code",
   "execution_count": 24,
   "metadata": {},
   "outputs": [
    {
     "name": "stdout",
     "output_type": "stream",
     "text": [
      "120\n"
     ]
    }
   ],
   "source": [
    "fact(5)"
   ]
  },
  {
   "cell_type": "code",
   "execution_count": 25,
   "metadata": {},
   "outputs": [],
   "source": [
    "def printFact(n, ans):\n",
    "    if n == 0:\n",
    "        print(ans)\n",
    "        return\n",
    "    ans = ans * n\n",
    "    printFact(n - 1, ans)"
   ]
  },
  {
   "cell_type": "code",
   "execution_count": 26,
   "metadata": {},
   "outputs": [
    {
     "name": "stdout",
     "output_type": "stream",
     "text": [
      "120\n"
     ]
    }
   ],
   "source": [
    "printFact(5, 1)"
   ]
  },
  {
   "cell_type": "markdown",
   "metadata": {},
   "source": [
    "# Minimum Of Array"
   ]
  },
  {
   "cell_type": "code",
   "execution_count": 27,
   "metadata": {},
   "outputs": [],
   "source": [
    "def minList(l):\n",
    "    if len(l) == 1:\n",
    "        return l[0]\n",
    "    \n",
    "    minSmallArray = minList(l[1:])\n",
    "    overallMin = min(minSmallArray, l[0])\n",
    "    return overallMin"
   ]
  },
  {
   "cell_type": "code",
   "execution_count": 28,
   "metadata": {},
   "outputs": [],
   "source": [
    "def printMin(l, minSoFar = 9999999):\n",
    "    if len(l) == 0:\n",
    "        print(minSoFar)\n",
    "        return\n",
    "    \n",
    "    newMin = min(minSoFar, l[0])\n",
    "    printMin(l[1:], newMin)"
   ]
  },
  {
   "cell_type": "code",
   "execution_count": 29,
   "metadata": {},
   "outputs": [
    {
     "name": "stdout",
     "output_type": "stream",
     "text": [
      "-4\n"
     ]
    }
   ],
   "source": [
    "printMin([1,2,3,4,-1,0,-2,-4,5,6])"
   ]
  },
  {
   "cell_type": "markdown",
   "metadata": {},
   "source": [
    "# Print All Subsequences"
   ]
  },
  {
   "cell_type": "code",
   "execution_count": 30,
   "metadata": {},
   "outputs": [],
   "source": [
    "def printSubs(s, o):\n",
    "    if len(s) == 0:\n",
    "        print(o)\n",
    "        return\n",
    "    \n",
    "    # Don't include 0th char\n",
    "    printSubs(s[1:], o)\n",
    "    \n",
    "    # Include 0th char\n",
    "    newOutput = o + s[0]\n",
    "    printSubs(s[1:], newOutput)"
   ]
  },
  {
   "cell_type": "code",
   "execution_count": 31,
   "metadata": {},
   "outputs": [
    {
     "name": "stdout",
     "output_type": "stream",
     "text": [
      "\n",
      "c\n",
      "b\n",
      "bc\n",
      "a\n",
      "ac\n",
      "ab\n",
      "abc\n"
     ]
    }
   ],
   "source": [
    "printSubs(\"abc\", \"\")"
   ]
  },
  {
   "cell_type": "markdown",
   "metadata": {},
   "source": [
    "# Print Keypad"
   ]
  },
  {
   "cell_type": "code",
   "execution_count": 36,
   "metadata": {},
   "outputs": [],
   "source": [
    "def printKeypad(n, outputSoFar):\n",
    "    if n == 0:\n",
    "        print(outputSoFar)\n",
    "        return\n",
    "    smallNumber = n // 10\n",
    "    lastDigit = n % 10\n",
    "    \n",
    "    optionsForLastDigit = getString(lastDigit)\n",
    "    for c in optionsForLastDigit:\n",
    "        newOutput = c + outputSoFar\n",
    "        printKeypad(smallNumber, newOutput)"
   ]
  },
  {
   "cell_type": "code",
   "execution_count": 38,
   "metadata": {},
   "outputs": [
    {
     "name": "stdout",
     "output_type": "stream",
     "text": [
      "ad\n",
      "bd\n",
      "cd\n",
      "ae\n",
      "be\n",
      "ce\n",
      "af\n",
      "bf\n",
      "cf\n"
     ]
    }
   ],
   "source": [
    "printKeypad(23, \"\")"
   ]
  },
  {
   "cell_type": "markdown",
   "metadata": {},
   "source": [
    "# Return subsets sum to K"
   ]
  },
  {
   "cell_type": "code",
   "execution_count": 21,
   "metadata": {},
   "outputs": [],
   "source": [
    "from sys import setrecursionlimit\n",
    "setrecursionlimit(10**9)\n",
    "\n",
    "def findSubsetsThatSumToKHelper(arr, k, idx, output):\n",
    "\n",
    "    if(idx == len(arr)) :\n",
    "        if k == 0 :\n",
    "            return [[]]\n",
    "        else:\n",
    "            return output\n",
    "\n",
    "    temp1 = findSubsetsThatSumToKHelper(arr, k, idx + 1, output)\n",
    "    \n",
    "    temp2 = findSubsetsThatSumToKHelper(arr, k - arr[idx], idx + 1, output)\n",
    "    \n",
    "    output = []\n",
    "    \n",
    "    for i in range(len(temp2)):\n",
    "        output.append([arr[idx]])\n",
    "        for j in range(len(temp2[i])):\n",
    "            output[i].append(temp2[i][j])\n",
    "    \n",
    "    for i in temp1:\n",
    "        output.append(i)\n",
    "    \n",
    "    return output\n",
    "\n",
    "\n",
    "\n",
    "\n",
    "def findSubsetsThatSumToK(arr, k) :\n",
    "\n",
    "    output = findSubsetsThatSumToKHelper(arr, k, 0, [])\n",
    "    return output"
   ]
  },
  {
   "cell_type": "code",
   "execution_count": 22,
   "metadata": {},
   "outputs": [
    {
     "name": "stdout",
     "output_type": "stream",
     "text": [
      "[[5, 1], [3, 3]]\n"
     ]
    }
   ],
   "source": [
    "arr = [5, 12, 3, 17, 1, 18, 15, 3, 17]\n",
    "k = 6\n",
    "print(findSubsetsThatSumToK(arr, k))"
   ]
  },
  {
   "cell_type": "markdown",
   "metadata": {},
   "source": [
    "# Return subset of an array"
   ]
  },
  {
   "cell_type": "code",
   "execution_count": 24,
   "metadata": {},
   "outputs": [],
   "source": [
    "from sys import stdin, setrecursionlimit\n",
    "setrecursionlimit(10**9)\n",
    "\n",
    "def subset(arr):\n",
    "    if len(arr) == 0:\n",
    "        return [[]]\n",
    "    \n",
    "    temp = subset(arr[1:])\n",
    "    \n",
    "    output = []\n",
    "    \n",
    "    for i in range(len(temp)):\n",
    "        output.append([arr[0]])\n",
    "        for j in range(len(temp[i])):\n",
    "            output[i].append(temp[i][j])\n",
    "            \n",
    "    for i in temp:\n",
    "        output.append(i)\n",
    "    \n",
    "    return output"
   ]
  },
  {
   "cell_type": "code",
   "execution_count": 25,
   "metadata": {},
   "outputs": [
    {
     "name": "stdout",
     "output_type": "stream",
     "text": [
      "[[15, 20, 12], [15, 20], [15, 12], [15], [20, 12], [20], [12], []]\n"
     ]
    }
   ],
   "source": [
    "arr = [15, 20, 12]\n",
    "print(subset(arr))"
   ]
  },
  {
   "cell_type": "markdown",
   "metadata": {},
   "source": [
    "# Return all permutations of a String"
   ]
  },
  {
   "cell_type": "code",
   "execution_count": 26,
   "metadata": {},
   "outputs": [
    {
     "name": "stdout",
     "output_type": "stream",
     "text": [
      "['abc', 'bac', 'bca', 'acb', 'cab', 'cba']\n"
     ]
    }
   ],
   "source": [
    "def permutations(string):\n",
    "    #Implement Your Code Here\n",
    "    if len(string) == 1:\n",
    "        return [string]\n",
    "    \n",
    "    temp = permutations(string[1:])\n",
    "    \n",
    "    output = []\n",
    "    for i in temp:\n",
    "        for j in range(len(i)+1):\n",
    "            smallString = i[:j] + string[0] + i[j:]\n",
    "            output.append(smallString)\n",
    "    \n",
    "    return output\n",
    "\n",
    "\n",
    "ans = permutations('abc')\n",
    "print(ans)"
   ]
  },
  {
   "cell_type": "markdown",
   "metadata": {},
   "source": [
    "# Print Permutations of a String"
   ]
  },
  {
   "cell_type": "code",
   "execution_count": 4,
   "metadata": {},
   "outputs": [
    {
     "name": "stdout",
     "output_type": "stream",
     "text": [
      "abc\n",
      "acb\n",
      "bac\n",
      "bca\n",
      "cab\n",
      "cba\n"
     ]
    }
   ],
   "source": [
    "from sys import stdin, setrecursionlimit\n",
    "setrecursionlimit(10**9)\n",
    "\n",
    "def printPermutations(string, output):\n",
    "    #Implement Your Code Here\n",
    "    if len(string) == 0:\n",
    "        print(output)\n",
    "        return\n",
    "    \n",
    "    for i in range(len(string)):\n",
    "        printPermutations(string[0:i] + string[i+1:], output + string[i])\n",
    "\n",
    "\n",
    "printPermutations('abc', '')"
   ]
  },
  {
   "cell_type": "markdown",
   "metadata": {},
   "source": [
    "# Print Subsets of Array"
   ]
  },
  {
   "cell_type": "code",
   "execution_count": 1,
   "metadata": {},
   "outputs": [
    {
     "name": "stdout",
     "output_type": "stream",
     "text": [
      "[19, 3, 9]\n",
      "[19, 3]\n",
      "[19, 9]\n",
      "[19]\n",
      "[3, 9]\n",
      "[3]\n",
      "[9]\n",
      "[]\n"
     ]
    }
   ],
   "source": [
    "def printSubsets(array, si, output):\n",
    "    if si >= len(array):\n",
    "        print(output)\n",
    "        return\n",
    "    \n",
    "    newOutput = []\n",
    "    for i in output:\n",
    "        newOutput.append(i)\n",
    "    newOutput.append(array[si])\n",
    "    printSubsets(array, si+1, newOutput)\n",
    "    printSubsets(array, si+1, output)\n",
    "\n",
    "printSubsets([19,3,9], 0, [])"
   ]
  },
  {
   "cell_type": "markdown",
   "metadata": {},
   "source": [
    "# Print Subset Sum to K"
   ]
  },
  {
   "cell_type": "code",
   "execution_count": 6,
   "metadata": {},
   "outputs": [
    {
     "name": "stdout",
     "output_type": "stream",
     "text": [
      "6 2 1 \n",
      "7 2 \n",
      "4 5 \n",
      "3 1 5 \n",
      "3 6 \n",
      "3 4 2 \n"
     ]
    }
   ],
   "source": [
    "def printAllSubsetsRec(arr, n, v, k) : \n",
    "    if (k == 0) : \n",
    "        for value in v : \n",
    "            print(value, end=\" \") \n",
    "        print() \n",
    "        return\n",
    "\n",
    "    if (n == 0): \n",
    "        return\n",
    "    \n",
    "    printAllSubsetsRec(arr, n - 1, v, k) \n",
    "    v1 = [] + v \n",
    "    v1.append(arr[n - 1]) \n",
    "    printAllSubsetsRec(arr, n - 1, v1, k - arr[n - 1]) \n",
    "\n",
    "def printAllSubsets(arr, n, k): \n",
    "    v = [] \n",
    "    printAllSubsetsRec(arr, n, v, k) \n",
    "\n",
    "arr = [5,1,2,6,7,4,3]\n",
    "k = 9\n",
    "n = len(arr) \n",
    "printAllSubsets(arr, n, k) "
   ]
  },
  {
   "cell_type": "code",
   "execution_count": null,
   "metadata": {},
   "outputs": [],
   "source": []
  }
 ],
 "metadata": {
  "kernelspec": {
   "display_name": "Python 3",
   "language": "python",
   "name": "python3"
  },
  "language_info": {
   "codemirror_mode": {
    "name": "ipython",
    "version": 3
   },
   "file_extension": ".py",
   "mimetype": "text/x-python",
   "name": "python",
   "nbconvert_exporter": "python",
   "pygments_lexer": "ipython3",
   "version": "3.8.2"
  }
 },
 "nbformat": 4,
 "nbformat_minor": 4
}
