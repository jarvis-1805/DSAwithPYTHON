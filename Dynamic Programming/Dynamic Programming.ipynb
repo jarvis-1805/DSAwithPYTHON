{
 "cells": [
  {
   "cell_type": "markdown",
   "metadata": {},
   "source": [
    "# Fibbonacci Recursive"
   ]
  },
  {
   "cell_type": "code",
   "execution_count": 2,
   "metadata": {},
   "outputs": [
    {
     "name": "stdout",
     "output_type": "stream",
     "text": [
      "7\n",
      "13\n"
     ]
    }
   ],
   "source": [
    "def fibb(n):\n",
    "    if n == 0 or n == 1:\n",
    "        return n\n",
    "    \n",
    "    ans1 = fibb(n-1)\n",
    "    ans2 = fibb(n-2)\n",
    "    \n",
    "    myAns = ans1 + ans2\n",
    "    return myAns\n",
    "\n",
    "n = int(input())\n",
    "ans = fibb(n)\n",
    "print(ans)"
   ]
  },
  {
   "cell_type": "code",
   "execution_count": 4,
   "metadata": {},
   "outputs": [
    {
     "name": "stdout",
     "output_type": "stream",
     "text": [
      "7\n",
      "13\n"
     ]
    }
   ],
   "source": [
    "def fibb1(n, dp):\n",
    "    if n == 0 or n == 1:\n",
    "        return n\n",
    "    \n",
    "    if dp[n-1] == -1:\n",
    "        ans1 = fibb1(n-1, dp)\n",
    "        dp[n-1] = ans1\n",
    "    else:\n",
    "        ans1 = dp[n-1]\n",
    "        \n",
    "    if dp[n-2] == -1:\n",
    "        ans2 = fibb1(n-2, dp)\n",
    "        dp[n-2] = ans2\n",
    "    else:\n",
    "        ans2 = dp[n-2]\n",
    "    \n",
    "    myAns = ans1 + ans2\n",
    "    return myAns\n",
    "\n",
    "n = int(input())\n",
    "dp = [-1 for i in range(n+1)]\n",
    "ans = fibb1(n, dp)\n",
    "print(ans)"
   ]
  },
  {
   "cell_type": "code",
   "execution_count": 5,
   "metadata": {},
   "outputs": [
    {
     "name": "stdout",
     "output_type": "stream",
     "text": [
      "7\n",
      "13\n"
     ]
    }
   ],
   "source": [
    "def fibb2(n):\n",
    "    dp = [0 for i in range(n+1)]\n",
    "    dp[0] = 0\n",
    "    dp[1] = 1\n",
    "    i = 2\n",
    "    while i <= n:\n",
    "        dp[i] = dp[i-1] + dp[i-2]\n",
    "        i += 1\n",
    "    return dp[n]\n",
    "\n",
    "n = int(input())\n",
    "ans = fibb2(n)\n",
    "print(ans)"
   ]
  },
  {
   "cell_type": "markdown",
   "metadata": {},
   "source": [
    "# Minimum Steps To 1"
   ]
  },
  {
   "cell_type": "code",
   "execution_count": 1,
   "metadata": {},
   "outputs": [
    {
     "name": "stdout",
     "output_type": "stream",
     "text": [
      "20\n",
      "4\n"
     ]
    }
   ],
   "source": [
    "import sys\n",
    "\n",
    "def minStepsTo1(n):\n",
    "    if n == 1:\n",
    "        return 0\n",
    "    \n",
    "    ans1 = sys.maxsize\n",
    "    if n%3 == 0:\n",
    "        ans1 = minStepsTo1(n//3)\n",
    "        \n",
    "    ans2 = sys.maxsize\n",
    "    if n%2 == 0:\n",
    "        ans2 = minStepsTo1(n//2)\n",
    "    \n",
    "    ans3 = minStepsTo1(n-1)\n",
    "    \n",
    "    ans = 1 + min(ans1, ans2, ans3)\n",
    "    return ans\n",
    "\n",
    "n = int(input())\n",
    "ans = minStepsTo1(n)\n",
    "print(ans)"
   ]
  },
  {
   "cell_type": "code",
   "execution_count": 4,
   "metadata": {},
   "outputs": [
    {
     "name": "stdout",
     "output_type": "stream",
     "text": [
      "20\n",
      "4\n"
     ]
    }
   ],
   "source": [
    "import sys\n",
    "\n",
    "def minStepsTo1(n, dp):\n",
    "    if n == 1:\n",
    "        return 0\n",
    "    \n",
    "    ans1 = sys.maxsize\n",
    "    if n%3 == 0:\n",
    "        if dp[n//3] == -1:\n",
    "            ans1 = minStepsTo1(n//3, dp)\n",
    "            dp[n//3] = ans1\n",
    "        else:\n",
    "            ans1 = dp[n//3]\n",
    "        \n",
    "    ans2 = sys.maxsize\n",
    "    if n%2 == 0:\n",
    "        if dp[n//2] == -1:\n",
    "            ans2 = minStepsTo1(n//2, dp)\n",
    "            dp[n//2] = ans2\n",
    "        else:\n",
    "            ans2 = dp[n//2]\n",
    "    \n",
    "    if dp[n-1] == -1:\n",
    "        ans3 = minStepsTo1(n-1, dp)\n",
    "        dp[n-1] = ans3\n",
    "    else:\n",
    "        ans3 = dp[n-1]\n",
    "    \n",
    "    ans = 1 + min(ans1, ans2, ans3)\n",
    "    return ans\n",
    "\n",
    "n = int(input())\n",
    "dp = [-1 for i in range(n+1)]\n",
    "ans = minStepsTo1(n, dp)\n",
    "print(ans)"
   ]
  },
  {
   "cell_type": "markdown",
   "metadata": {},
   "source": [
    "# Min. Squares To Represent N(Recursively)"
   ]
  },
  {
   "cell_type": "code",
   "execution_count": 10,
   "metadata": {},
   "outputs": [
    {
     "name": "stdout",
     "output_type": "stream",
     "text": [
      "41\n",
      "2\n"
     ]
    }
   ],
   "source": [
    "import math, sys\n",
    "\n",
    "def minSquares(n):\n",
    "    if n == 0:\n",
    "        return 0\n",
    "    \n",
    "    ans = sys.maxsize\n",
    "    root = int(math.sqrt(n))\n",
    "    for i in range(1, root+1):\n",
    "        currAns = 1 + minSquares(n-(i**2))\n",
    "        ans = min(ans, currAns)\n",
    "        \n",
    "    return ans\n",
    "\n",
    "n = int(input())\n",
    "ans = minSquares(n)\n",
    "print(ans)"
   ]
  },
  {
   "cell_type": "code",
   "execution_count": 9,
   "metadata": {},
   "outputs": [
    {
     "name": "stdout",
     "output_type": "stream",
     "text": [
      "41\n",
      "2\n"
     ]
    }
   ],
   "source": [
    "import math, sys\n",
    "\n",
    "def minSquares1(n, dp):\n",
    "    if n == 0:\n",
    "        return 0\n",
    "    \n",
    "    ans = sys.maxsize\n",
    "    root = int(math.sqrt(n))\n",
    "    for i in range(1, root+1):\n",
    "        newCheckValue = n-(i**2)\n",
    "        if dp[newCheckValue] == -1:\n",
    "            smallAns = minSquares1(newCheckValue, dp)\n",
    "            dp[newCheckValue] = smallAns\n",
    "            currAns = 1 + smallAns\n",
    "        else:\n",
    "            currAns = 1 + dp[newCheckValue]\n",
    "        ans = min(ans, currAns)\n",
    "        \n",
    "    return ans\n",
    "\n",
    "n = int(input())\n",
    "dp = [-1 for i in range(n+1)]\n",
    "ans = minSquares1(n, dp)\n",
    "print(ans)"
   ]
  },
  {
   "cell_type": "code",
   "execution_count": 13,
   "metadata": {},
   "outputs": [
    {
     "name": "stdout",
     "output_type": "stream",
     "text": [
      "41\n",
      "2\n"
     ]
    }
   ],
   "source": [
    "import math, sys\n",
    "\n",
    "def minSquares2(n):\n",
    "    dp = [-1 for i in range(n+1)]\n",
    "    dp[0] = 0\n",
    "    \n",
    "    for i in range(1, n+1):\n",
    "        ans = sys.maxsize\n",
    "        root = int(math.sqrt(i))\n",
    "        for j in range(1, root+1):\n",
    "            currAns = 1 + dp[i-(j**2)]\n",
    "            ans = min(ans, currAns)\n",
    "        dp[i] = ans\n",
    "    return dp[n]\n",
    "\n",
    "n = int(input())\n",
    "ans = minSquares2(n)\n",
    "print(ans)"
   ]
  },
  {
   "cell_type": "markdown",
   "metadata": {},
   "source": [
    "# Longest Increasing Subsequence"
   ]
  },
  {
   "cell_type": "code",
   "execution_count": 2,
   "metadata": {},
   "outputs": [
    {
     "name": "stdout",
     "output_type": "stream",
     "text": [
      "7\n",
      "6 3 1 2 0 7 9\n",
      "4\n"
     ]
    }
   ],
   "source": [
    "def lis(li, i, n):\n",
    "    if i == n:\n",
    "        return 0, 0\n",
    "    \n",
    "    including_max = 1\n",
    "    for j in range(i+1, n):\n",
    "        if li[j] >= li[i]:\n",
    "            further_including_max = lis(li, j, n)[0]\n",
    "            including_max = max(including_max, 1 + further_including_max)\n",
    "            \n",
    "    excluding_max = lis(li, i+1, n)[1]\n",
    "    overallMax = max(including_max, excluding_max)\n",
    "    return including_max, overallMax\n",
    "\n",
    "n = int(input())\n",
    "li = [int(ele) for ele in input().split()]\n",
    "ans = lis(li, 0, n)[1]\n",
    "print(ans)"
   ]
  },
  {
   "cell_type": "code",
   "execution_count": 4,
   "metadata": {},
   "outputs": [
    {
     "name": "stdout",
     "output_type": "stream",
     "text": [
      "7\n",
      "6 3 1 2 0 7 9\n",
      "4\n"
     ]
    }
   ],
   "source": [
    "def lis1(li, i, n, dp):\n",
    "    if i == n:\n",
    "        return 0, 0\n",
    "    \n",
    "    including_max = 1\n",
    "    for j in range(i+1, n):\n",
    "        if li[j] >= li[i]:\n",
    "            if dp[j] == -1:\n",
    "                ans = lis1(li, j, n, dp)\n",
    "                dp[j] = ans\n",
    "                further_including_max = ans[0]\n",
    "            else:\n",
    "                further_including_max = dp[j][0]\n",
    "            including_max = max(including_max, 1 + further_including_max)\n",
    "    if dp[i] == -1:\n",
    "        ans = lis1(li, i+1, n, dp)\n",
    "        dp[i+1] = ans\n",
    "        excluding_max = ans[1]\n",
    "    else:\n",
    "        excluding_max = dp[i+1][1]\n",
    "    overallMax = max(including_max, excluding_max)\n",
    "    return including_max, overallMax\n",
    "\n",
    "n = int(input())\n",
    "li = [int(ele) for ele in input().split()]\n",
    "dp = [-1 for i in range(n+1)]\n",
    "ans = lis1(li, 0, n, dp)[1]\n",
    "print(ans)"
   ]
  },
  {
   "cell_type": "code",
   "execution_count": 9,
   "metadata": {},
   "outputs": [
    {
     "name": "stdout",
     "output_type": "stream",
     "text": [
      "7\n",
      "6 3 1 2 0 7 9\n",
      "4\n"
     ]
    }
   ],
   "source": [
    "def lis2(li, n):\n",
    "    dp = [[0 for j in range(2)] for i in range(n+1)]\n",
    "    \n",
    "    for i in range(n-1, -1, -1):\n",
    "        including_max = 1\n",
    "        for j in range(i+1, n):\n",
    "            if li[j] > li[i]:\n",
    "                including_max = max(including_max, 1 + dp[j][0])\n",
    "        dp[i][0] = including_max\n",
    "        excluding_max = dp[i+1][1]\n",
    "        overallMax = max(including_max, excluding_max)\n",
    "        dp[i][1] = overallM  ax\n",
    "    \n",
    "    return dp[0][1]\n",
    "\n",
    "n = int(input())\n",
    "li = [int(ele) for ele in input().split()]\n",
    "ans = lis2(li, n)\n",
    "print(ans)"
   ]
  },
  {
   "cell_type": "markdown",
   "metadata": {},
   "source": [
    "# MIN COST RECURSIVE"
   ]
  },
  {
   "cell_type": "code",
   "execution_count": 3,
   "metadata": {},
   "outputs": [
    {
     "name": "stdout",
     "output_type": "stream",
     "text": [
      "30\n"
     ]
    }
   ],
   "source": [
    "import sys\n",
    "\n",
    "def minCost(cost, i, j, n, m):\n",
    "    # Special Case\n",
    "    if i==n-1 and j==m-1:\n",
    "        return cost[i][j]\n",
    "    \n",
    "    # Base case\n",
    "    if i>=n or j>=m:\n",
    "        return sys.maxsize\n",
    "    \n",
    "    ans1 = minCost(cost, i, j+1, n, m)\n",
    "    ans2 = minCost(cost, i+1, j, n, m)\n",
    "    ans3 = minCost(cost, i+1, j+1, n, m)\n",
    "    \n",
    "    ans = cost[i][j] + min(ans1, ans2, ans3)\n",
    "    return ans\n",
    "\n",
    "cost = [[1,5,11], [8,13,12], [2,3,7], [15,16,18]]\n",
    "ans = minCost(cost, 0, 0, 4, 3)\n",
    "print(ans)"
   ]
  },
  {
   "cell_type": "markdown",
   "metadata": {},
   "source": [
    "# MIN COST MEMOIZATION"
   ]
  },
  {
   "cell_type": "code",
   "execution_count": 1,
   "metadata": {},
   "outputs": [
    {
     "name": "stdout",
     "output_type": "stream",
     "text": [
      "30\n"
     ]
    }
   ],
   "source": [
    "import sys\n",
    "\n",
    "def minCost(cost, i, j, n, m, dp):\n",
    "    # Special Case\n",
    "    if i==n-1 and j==m-1:\n",
    "        return cost[i][j]\n",
    "    \n",
    "    # Base case\n",
    "    if i>=n or j>=m:\n",
    "        return sys.maxsize\n",
    "    \n",
    "    if dp[i][j+1] == sys.maxsize:\n",
    "        ans1 = minCost(cost, i, j+1, n, m, dp)\n",
    "        dp[i][j+1] = ans1\n",
    "    else:\n",
    "         ans1 = dp[i][j+1]\n",
    "    \n",
    "    if dp[i+1][j] == sys.maxsize:\n",
    "        ans2 = minCost(cost, i+1, j, n, m, dp)\n",
    "        dp[i+1][j] = ans2\n",
    "    else:\n",
    "        ans2 = dp[i+1][j]\n",
    "    \n",
    "    if dp[i+1][j+1] == sys.maxsize:\n",
    "        ans3 = minCost(cost, i+1, j+1, n, m, dp)\n",
    "        dp[i+1][j+1] = ans3\n",
    "    else:\n",
    "        ans3 = dp[i+1][j+1]\n",
    "    \n",
    "    ans = cost[i][j] + min(ans1, ans2, ans3)\n",
    "    return ans\n",
    "\n",
    "cost = [[1,5,11], [8,13,12], [2,3,7], [15,16,18]]\n",
    "n = 4\n",
    "m = 3\n",
    "dp = [[sys.maxsize for j in range(m+1)]for i in range(n+1)]\n",
    "ans = minCost(cost, 0, 0, 4, 3, dp)\n",
    "print(ans)"
   ]
  },
  {
   "cell_type": "markdown",
   "metadata": {},
   "source": [
    "# MIN COST ITERATIVE"
   ]
  },
  {
   "cell_type": "markdown",
   "metadata": {},
   "source": [
    "Bottom Up Approach"
   ]
  },
  {
   "cell_type": "code",
   "execution_count": 2,
   "metadata": {},
   "outputs": [
    {
     "name": "stdout",
     "output_type": "stream",
     "text": [
      "30\n"
     ]
    }
   ],
   "source": [
    "import sys\n",
    "\n",
    "def minCostIterative(cost, n, m):\n",
    "    dp = [[sys.maxsize for j in range(m+1)]for i in range(n+1)]\n",
    "    \n",
    "    for i in range(n-1, -1, -1):\n",
    "        for j in range(m-1, -1, -1):\n",
    "            if i == n-1 and j==m-1:\n",
    "                dp[i][j] = cost[i][j]\n",
    "            else:\n",
    "                ans1 = dp[i+1][j]\n",
    "                ans2 = dp[i][j+1]\n",
    "                ans3 = dp[i+1][j+1]\n",
    "                dp[i][j] = cost[i][j] + min(ans1,ans2,ans3)\n",
    "    return dp[0][0]\n",
    "\n",
    "cost = [[1,5,11], [8,13,12], [2,3,7], [15,16,18]]\n",
    "n = 4\n",
    "m = 3\n",
    "ans = minCostIterative(cost, n, m)\n",
    "print(ans)"
   ]
  },
  {
   "cell_type": "markdown",
   "metadata": {},
   "source": [
    "Top Down Approach"
   ]
  },
  {
   "cell_type": "code",
   "execution_count": 3,
   "metadata": {},
   "outputs": [
    {
     "name": "stdout",
     "output_type": "stream",
     "text": [
      "30\n"
     ]
    }
   ],
   "source": [
    "import sys\n",
    "\n",
    "def minCostIterative1(cost, n, m):\n",
    "    dp = [[sys.maxsize for j in range(m+1)]for i in range(n+1)]\n",
    "    \n",
    "    for i in range(1, n+1):\n",
    "        for j in range(1, m+1):\n",
    "            if i == 1 and j == 1:\n",
    "                dp[i][j] = cost[0][0]\n",
    "            else:\n",
    "                ans1 = dp[i-1][j]\n",
    "                ans2 = dp[i][j-1]\n",
    "                ans3 = dp[i-1][j-1]\n",
    "                dp[i][j] = cost[i-1][j-1] + min(ans1,ans2,ans3)\n",
    "    return dp[n][m]\n",
    "\n",
    "cost = [[1,5,11], [8,13,12], [2,3,7], [15,16,18]]\n",
    "n = 4\n",
    "m = 3\n",
    "ans = minCostIterative1(cost, n, m)\n",
    "print(ans)"
   ]
  },
  {
   "cell_type": "markdown",
   "metadata": {},
   "source": [
    "# Longest Common Subsequence"
   ]
  },
  {
   "cell_type": "code",
   "execution_count": 5,
   "metadata": {},
   "outputs": [
    {
     "name": "stdout",
     "output_type": "stream",
     "text": [
      "4\n"
     ]
    }
   ],
   "source": [
    "def lcs(str1, str2, i, j):\n",
    "    if i == len(str1) or j == len(str2):\n",
    "        return 0\n",
    "    \n",
    "    if str1[i] == str2[j]:\n",
    "        ans = 1 + lcs(str1, str2, i+1, j+1)\n",
    "    else:\n",
    "        ans1 = lcs(str1, str2, i+1, j)\n",
    "        ans2 = lcs(str1, str2, i, j+1)\n",
    "        ans = max(ans1, ans2)\n",
    "    \n",
    "    return ans\n",
    "\n",
    "str1 = \"abedgjc\"\n",
    "str2 = \"bmdgsc\"\n",
    "ans = lcs(str1, str2, 0, 0)\n",
    "print(ans)"
   ]
  },
  {
   "cell_type": "code",
   "execution_count": 1,
   "metadata": {},
   "outputs": [
    {
     "name": "stdout",
     "output_type": "stream",
     "text": [
      "4\n"
     ]
    }
   ],
   "source": [
    "def lcs1(str1, str2, i, j, dp):\n",
    "    if i == len(str1) or j == len(str2):\n",
    "        return 0\n",
    "    \n",
    "    if str1[i] == str2[j]:\n",
    "        if dp[i+1][j+1] == -1:\n",
    "            smallAns = lcs1(str1, str2, i+1, j+1, dp)\n",
    "            dp[i+1][j+1] = smallAns\n",
    "            ans = 1 + smallAns\n",
    "        else:\n",
    "            ans = 1 + dp[i+1][j+1]\n",
    "    else:\n",
    "        if dp[i+1][j] -- -1:\n",
    "            ans1 = lcs1(str1, str2, i+1, j, dp)\n",
    "            dp[i+1][j] = ans1\n",
    "        else:\n",
    "            ans1 = dp[i+1][j]\n",
    "        \n",
    "        if dp[i][j+1] == -1:\n",
    "            ans2 = lcs1(str1, str2, i, j+1, dp)\n",
    "            dp[i][j+1] = ans2\n",
    "        else:\n",
    "            ans2 = dp[i][j+1]\n",
    "        ans = max(ans1, ans2)\n",
    "    \n",
    "    return ans\n",
    "\n",
    "str1 = \"abedgjc\"\n",
    "str2 = \"bmdgsc\"\n",
    "n = len(str1)\n",
    "m = len(str2)\n",
    "dp = [[-1 for j in range(m+1)] for i in range(n+1)]\n",
    "ans = lcs1(str1, str2, 0, 0, dp)\n",
    "print(ans)"
   ]
  },
  {
   "cell_type": "code",
   "execution_count": 2,
   "metadata": {},
   "outputs": [
    {
     "name": "stdout",
     "output_type": "stream",
     "text": [
      "4\n"
     ]
    }
   ],
   "source": [
    "def lcs2(str1, str2):\n",
    "    n = len(str1)\n",
    "    m = len(str2)\n",
    "    \n",
    "    dp = [[0 for j in range(m+1)] for i in range(n+1)]\n",
    "    \n",
    "    for i in range(n-1,-1,-1):\n",
    "        for j in range(m-1,-1,-1):\n",
    "            if str1[i] == str2[j]:\n",
    "                dp[i][j] = 1 + dp[i+1][j+1]\n",
    "            else:\n",
    "                dp[i][j] = max(dp[i+1][j], dp[i][j+1])\n",
    "    return dp[0][0]\n",
    "\n",
    "str1 = \"abedgjc\"\n",
    "str2 = \"bmdgsc\"\n",
    "ans = lcs2(str1, str2)\n",
    "print(ans)"
   ]
  },
  {
   "cell_type": "markdown",
   "metadata": {},
   "source": [
    "# 0-1 Knapsack"
   ]
  },
  {
   "cell_type": "code",
   "execution_count": 5,
   "metadata": {},
   "outputs": [
    {
     "name": "stdout",
     "output_type": "stream",
     "text": [
      "500\n"
     ]
    }
   ],
   "source": [
    "def knapsack(W, val, wt, n, i):\n",
    "    if i == n:\n",
    "        return 0\n",
    "    \n",
    "    if wt[i] > W:\n",
    "        ans = knapsack(W, val, wt, n, i+1)\n",
    "    else:\n",
    "        # inclusion of ith item\n",
    "        ans1 = val[i] + knapsack(W-wt[i], val, wt, n, i+1)\n",
    "        # exclusion of ith item\n",
    "        ans2 = knapsack(W, val, wt, n, i+1)\n",
    "        ans = max(ans1, ans2)\n",
    "    \n",
    "    return ans\n",
    "\n",
    "val = [200,300,100]\n",
    "wt = [20,25,30]\n",
    "W = 50\n",
    "n = len(val)\n",
    "ans = knapsack(W, val, wt, n, 0)\n",
    "print(ans)"
   ]
  },
  {
   "cell_type": "code",
   "execution_count": 6,
   "metadata": {},
   "outputs": [
    {
     "name": "stdout",
     "output_type": "stream",
     "text": [
      "500\n"
     ]
    }
   ],
   "source": [
    "def knapsack(W, val, wt):\n",
    "    n = len(val)\n",
    "    dp = [[0 for j in range(W+1)] for i in range(n+1)]\n",
    "    \n",
    "    for i in range(1, n+1):\n",
    "        for j in range(1, W+1):\n",
    "            if j < wt[i-1]:\n",
    "                ans = dp[i-1][j]\n",
    "            else:\n",
    "                ans1 = val[i-1] + dp[i-1][j-wt[i-1]]\n",
    "                ans2 = dp[i-1][j]\n",
    "                ans = max(ans1, ans2)\n",
    "            dp[i][j] = ans\n",
    "    \n",
    "    return dp[n][W]\n",
    "\n",
    "val = [200,300,100]\n",
    "wt = [20,25,30]\n",
    "W = 50\n",
    "ans = knapsack(W, val, wt)\n",
    "print(ans)"
   ]
  },
  {
   "cell_type": "markdown",
   "metadata": {},
   "source": [
    "# Matrix Chain Multiplication"
   ]
  },
  {
   "cell_type": "code",
   "execution_count": 9,
   "metadata": {},
   "outputs": [
    {
     "name": "stdout",
     "output_type": "stream",
     "text": [
      "124\n"
     ]
    }
   ],
   "source": [
    "import sys\n",
    "def mcm(p,i,j):\n",
    "    if i == j:\n",
    "        return 0\n",
    "    \n",
    "    min_value = sys.maxsize\n",
    "    for k in range(i,j):\n",
    "        ans1 = mcm(p,i,k)\n",
    "        ans2 = mcm(p,k+1,j)\n",
    "        \n",
    "        mCost = p[i-1]*p[k]*p[j]\n",
    "        curr_value = ans1 + ans2 + mCost\n",
    "        min_value = min(min_value,curr_value)\n",
    "    \n",
    "    return min_value\n",
    "\n",
    "p = [2,3,4,5,6]\n",
    "n = len(p) - 1\n",
    "\n",
    "ans = mcm(p,1,n)\n",
    "print(ans)"
   ]
  },
  {
   "cell_type": "code",
   "execution_count": 1,
   "metadata": {},
   "outputs": [
    {
     "name": "stdout",
     "output_type": "stream",
     "text": [
      "124\n"
     ]
    }
   ],
   "source": [
    "import sys\n",
    "def mcm(p,i,j,dp):\n",
    "    if i == j:\n",
    "        return 0\n",
    "    \n",
    "    min_value = sys.maxsize\n",
    "    for k in range(i,j):\n",
    "        if dp[i][k] == -1:\n",
    "            ans1 = mcm(p,i,k,dp)\n",
    "            dp[i][k] = ans1\n",
    "        else:\n",
    "            ans1 = dp[i][k]\n",
    "        \n",
    "        if dp[k+1][j] == -1:\n",
    "            ans2 = mcm(p,k+1,j,dp)\n",
    "            dp[k+1][j] = ans2\n",
    "        else:\n",
    "            ans2 = dp[k+1][j]\n",
    "        \n",
    "        mCost = p[i-1]*p[k]*p[j]\n",
    "        curr_value = ans1 + ans2 + mCost\n",
    "        min_value = min(min_value,curr_value)\n",
    "    \n",
    "    return min_value\n",
    "\n",
    "p = [2,3,4,5,6]\n",
    "n = len(p) - 1\n",
    "dp = [[-1 for j in range(n+1)] for i in range(n+1)]\n",
    "ans = mcm(p,1,n,dp)\n",
    "print(ans)"
   ]
  },
  {
   "cell_type": "code",
   "execution_count": null,
   "metadata": {},
   "outputs": [],
   "source": []
  }
 ],
 "metadata": {
  "kernelspec": {
   "display_name": "Python 3",
   "language": "python",
   "name": "python3"
  },
  "language_info": {
   "codemirror_mode": {
    "name": "ipython",
    "version": 3
   },
   "file_extension": ".py",
   "mimetype": "text/x-python",
   "name": "python",
   "nbconvert_exporter": "python",
   "pygments_lexer": "ipython3",
   "version": "3.8.2"
  }
 },
 "nbformat": 4,
 "nbformat_minor": 4
}
