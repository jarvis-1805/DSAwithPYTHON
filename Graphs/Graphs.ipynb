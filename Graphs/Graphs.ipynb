{
 "cells": [
  {
   "cell_type": "code",
   "execution_count": 6,
   "metadata": {},
   "outputs": [],
   "source": [
    "import queue\n",
    "\n",
    "class Graph:\n",
    "    def __init__(self, nVertices):\n",
    "        self.nVertices = nVertices\n",
    "        self.adjMatrix = [[0 for j in range(nVertices)] for i in range(nVertices)]\n",
    "    \n",
    "    def addEdge(self, v1, v2):\n",
    "        self.adjMatrix[v1][v2] = 1\n",
    "        self.adjMatrix[v2][v1] = 1\n",
    "    \n",
    "    def __dfsHelper(self, sv, visited):\n",
    "        print(sv)\n",
    "        visited[sv] = True\n",
    "        for i in range(self.nVertices):\n",
    "            if self.adjMatrix[sv][i] > 0 and visited[i] is False:\n",
    "                self.__dfsHelper(i, visited)\n",
    "    \n",
    "    def dfs(self):\n",
    "        visited = [False for i in range(self.nVertices)]\n",
    "        for i in range(self.nVertices):\n",
    "            if visited[i] is False:\n",
    "                self.__dfsHelper(i, visited)\n",
    "    \n",
    "    def __bfsHelper(self, sv, visited):\n",
    "        q = queue.Queue()\n",
    "        q.put(sv)\n",
    "        visited[sv] = True\n",
    "        while q.empty() is False:\n",
    "            u = q.get()\n",
    "            print(u)\n",
    "            for i in range(self.nVertices):\n",
    "                if self.adjMatrix[u][i] > 0 and visited[i] is False:\n",
    "                    q.put(i)\n",
    "                    visited[i] =True\n",
    "    \n",
    "    def bfs(self):\n",
    "        visited = [False for i in range(self.nVertices)]\n",
    "        for i in range(self.nVertices):\n",
    "            if visited[i] is False:\n",
    "                self.__bfsHelper(i, visited)\n",
    "    \n",
    "    def removeEdge(self, v1, v2):\n",
    "        if self.containsEdge(v1, v2) is False:\n",
    "            return\n",
    "        self.adjMatrix[v1][v2] = 0\n",
    "        self.adjMatrix[v2][v1] = 0\n",
    "    \n",
    "    def containsEdge(self, v1, v2):\n",
    "        return True if self.AdjMatrix[v1][v2] > 0 else False\n",
    "    \n",
    "    def __str__(self):\n",
    "        return str(self.adjMatrix)"
   ]
  },
  {
   "cell_type": "code",
   "execution_count": 7,
   "metadata": {
    "scrolled": true
   },
   "outputs": [
    {
     "name": "stdout",
     "output_type": "stream",
     "text": [
      "0\n",
      "1\n",
      "3\n",
      "2\n",
      "4\n",
      "6\n",
      "5\n",
      "[[0, 1, 0, 1, 0, 0, 0], [1, 0, 0, 0, 0, 0, 0], [0, 0, 0, 0, 1, 1, 0], [1, 0, 0, 0, 0, 0, 0], [0, 0, 1, 0, 0, 0, 1], [0, 0, 1, 0, 0, 0, 0], [0, 0, 0, 0, 1, 0, 0]]\n"
     ]
    }
   ],
   "source": [
    "g = Graph(7)\n",
    "g.addEdge(0,1)\n",
    "g.addEdge(0,3)\n",
    "g.addEdge(2,4)\n",
    "g.addEdge(2,5)\n",
    "g.addEdge(4,6)\n",
    "g.dfs()\n",
    "print(g)"
   ]
  },
  {
   "cell_type": "code",
   "execution_count": 8,
   "metadata": {},
   "outputs": [
    {
     "name": "stdout",
     "output_type": "stream",
     "text": [
      "0\n",
      "1\n",
      "3\n",
      "2\n",
      "4\n",
      "5\n",
      "6\n"
     ]
    }
   ],
   "source": [
    "g.bfs()"
   ]
  },
  {
   "cell_type": "markdown",
   "metadata": {},
   "source": [
    "# Kruskal's Algorithm Code"
   ]
  },
  {
   "cell_type": "code",
   "execution_count": 3,
   "metadata": {},
   "outputs": [
    {
     "name": "stdout",
     "output_type": "stream",
     "text": [
      "4 4\n",
      "0 1 2\n",
      "1 3 3\n",
      "0 2 5\n",
      "2 3 8\n",
      "0 1 2\n",
      "1 3 3\n",
      "0 2 5\n"
     ]
    }
   ],
   "source": [
    "class Edge:\n",
    "    def __init__(self, src, dest, wt):\n",
    "        self.src = src\n",
    "        self.dest = dest\n",
    "        self.wt = wt\n",
    "    \n",
    "li = [int(ele) for ele in input().split()]\n",
    "n = li[0]\n",
    "E = li[1]\n",
    "edges = []\n",
    "\n",
    "def getParent(v, parent):\n",
    "    if v== parent[v]:\n",
    "        return v\n",
    "    return getParent(parent[v], parent)\n",
    "\n",
    "def kruskal(edges, nVertices):\n",
    "    parent = [i for i in range(nVertices)]\n",
    "    edges = sorted(edges, key = lambda edge:edge.wt)\n",
    "    count = 0\n",
    "    output = []\n",
    "    i = 0\n",
    "    \n",
    "    while count < (nVertices-1):\n",
    "        currentEdge = edges[i]\n",
    "        srcParent = getParent(currentEdge.src, parent)\n",
    "        destParent = getParent(currentEdge.dest, parent)\n",
    "        \n",
    "        if srcParent != destParent:\n",
    "            output.append(currentEdge)\n",
    "            count += 1\n",
    "            parent[srcParent] = destParent\n",
    "        i += 1\n",
    "        \n",
    "    return output\n",
    "\n",
    "for i in range(E):\n",
    "    curr_input = [int(ele) for ele in input().split()]\n",
    "    src = curr_input[0]\n",
    "    dest = curr_input[1]\n",
    "    wt = curr_input[2]\n",
    "    edge = Edge(src, dest, wt)\n",
    "    edges.append(edge)\n",
    "output = kruskal(edges, n)\n",
    "for edge in output:\n",
    "    if edge.src < edge.dest:\n",
    "        print(str(edge.src) + ' ' + str(edge.dest) + ' ' + str(edge.wt))\n",
    "    else:\n",
    "        print(str(edge.dest) + ' ' + str(edge.src) + ' ' + str(edge.wt))"
   ]
  },
  {
   "cell_type": "markdown",
   "metadata": {},
   "source": [
    "# Prim's Algorithm Code"
   ]
  },
  {
   "cell_type": "code",
   "execution_count": 3,
   "metadata": {},
   "outputs": [
    {
     "name": "stdout",
     "output_type": "stream",
     "text": [
      "4 4\n",
      "0 1 3\n",
      "0 3 5\n",
      "1 2 1\n",
      "2 3 8\n",
      "0 1 3\n",
      "1 2 1\n",
      "0 3 5\n"
     ]
    }
   ],
   "source": [
    "import sys\n",
    "\n",
    "class Graph:\n",
    "    def __init__(self, nVertices):\n",
    "        self.nVertices = nVertices\n",
    "        self.adjMatrix = [[0 for j in range(nVertices)] for i in range(nVertices)]\n",
    "    \n",
    "    def addEdge(self, v1, v2, wt):\n",
    "        self.adjMatrix[v1][v2] = wt\n",
    "        self.adjMatrix[v2][v1] = wt\n",
    "        \n",
    "    def __str__(self):\n",
    "        return str(self.adjMatrix)\n",
    "\n",
    "    def __getMinVertex(self, visited, weight):\n",
    "        min_vertex = -1\n",
    "        for i in range(self.nVertices):\n",
    "            if (visited[i] is False and (min_vertex == -1 or weight[min_vertex] > weight[i])):\n",
    "                min_vertex = i\n",
    "        return min_vertex\n",
    "    \n",
    "    def prims(self):\n",
    "        visited = [False for i in range(self.nVertices)]\n",
    "        parent = [-1 for i in range(self.nVertices)]\n",
    "        weight = [sys.maxsize for i in range(self.nVertices)]\n",
    "        weight[0] = 0\n",
    "        \n",
    "        for i in range(self.nVertices-1):\n",
    "            min_vertex = self.__getMinVertex(visited, weight)\n",
    "            visited[min_vertex] = True\n",
    "            \n",
    "            # Explore the neighbours of minVertex which is not visted\n",
    "            # and update the weight corresponding to them if required\n",
    "            \n",
    "            for j in range(self.nVertices):\n",
    "                if self.adjMatrix[min_vertex][j] > 0 and visited[j] is False:\n",
    "                    if weight[j] > self.adjMatrix[min_vertex][j]:\n",
    "                        weight[j] = self.adjMatrix[min_vertex][j]\n",
    "                        parent[j] = min_vertex\n",
    "            \n",
    "        for i in range(1, self.nVertices):\n",
    "            if i < parent[i]:\n",
    "                print(str(i) + ' ' + str(parent[i]) + ' ' + str(weight[i]))\n",
    "            else:\n",
    "                print(str(parent[i]) + ' ' + str(i) + ' ' + str(weight[i]))\n",
    "    \n",
    "li = [int(ele) for ele in input().split()]\n",
    "n = li[0]\n",
    "E = li[1]\n",
    "\n",
    "g = Graph(n)\n",
    "for i in range(E):\n",
    "    curr_input = [int(ele) for ele in input().split()]\n",
    "    g.addEdge(curr_input[0], curr_input[1], curr_input[2])\n",
    "g.prims()"
   ]
  }
 ],
 "metadata": {
  "kernelspec": {
   "display_name": "Python 3",
   "language": "python",
   "name": "python3"
  },
  "language_info": {
   "codemirror_mode": {
    "name": "ipython",
    "version": 3
   },
   "file_extension": ".py",
   "mimetype": "text/x-python",
   "name": "python",
   "nbconvert_exporter": "python",
   "pygments_lexer": "ipython3",
   "version": "3.8.2"
  }
 },
 "nbformat": 4,
 "nbformat_minor": 4
}
